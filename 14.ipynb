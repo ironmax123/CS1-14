{
 "cells": [
  {
   "cell_type": "code",
   "execution_count": 1,
   "metadata": {},
   "outputs": [
    {
     "data": {
      "text/plain": [
       "<sqlite3.Cursor at 0x103a345c0>"
      ]
     },
     "execution_count": 1,
     "metadata": {},
     "output_type": "execute_result"
    }
   ],
   "source": [
    "# SQLite のモジュールをインポートする\n",
    "import sqlite3\n",
    " \n",
    "# Weather.db に接続する\n",
    "conn = sqlite3.connect(\"Weather.db\", isolation_level=None)\n",
    "\n",
    "# \"GW\" テーブルを作成する (month, day, highest, lowest, humidity, weather) \n",
    "# VARCHAR: 可変長文字列型, INTEGER: 整数, REAL: 実数\n",
    "sql=\"\"\"\n",
    "CREATE TABLE GW (\n",
    "    month INTEGER, \n",
    "    day INTEGER, \n",
    "    highest REAL, \n",
    "    lowest REAL, \n",
    "    humidity INTEGER, \n",
    "    weather VARCHAR(10)\n",
    ");\n",
    "\"\"\"\n",
    "\n",
    "conn.execute(sql)"
   ]
  },
  {
   "cell_type": "code",
   "execution_count": 2,
   "metadata": {},
   "outputs": [
    {
     "data": {
      "text/plain": [
       "<sqlite3.Cursor at 0x103a34dc0>"
      ]
     },
     "execution_count": 2,
     "metadata": {},
     "output_type": "execute_result"
    }
   ],
   "source": [
    "\n",
    "# レコードを登録する\n",
    "conn.execute(\"INSERT INTO GW VALUES (4, 29, 19.2, 11.3, 76, 'Rain');\")\n",
    "conn.execute(\"INSERT INTO GW VALUES (4, 30, 21.7, 10.6, 49, 'Sunny');\")\n",
    "conn.execute(\"INSERT INTO GW VALUES (5, 1, 19.0, 10.1, 76, 'Rain');\")\n",
    "conn.execute(\"INSERT INTO GW VALUES (5, 2, 21.5, 7.7, 62, 'Sunny');\") \n",
    "conn.execute(\"INSERT INTO GW VALUES (5, 3, 21.6, 7.8, 54, 'Sunny');\") \n",
    "conn.execute(\"INSERT INTO GW VALUES (5, 4, 26.1, 9.8, 49, 'Sunny');\")  \n",
    "conn.execute(\"INSERT INTO GW VALUES (5, 5, 29.3, 11.9, 45, 'Sunny');\")  \n",
    "conn.execute(\"INSERT INTO GW VALUES (5, 6, 26.1, 15.2, 57, 'Cloudy');\") \n",
    "conn.execute(\"INSERT INTO GW VALUES (5, 7, 28.5, 16.7, 57, 'Sunny');\")  \n",
    "conn.execute(\"INSERT INTO GW VALUES (5, 8, 22.3, 12.2, 41, 'Sunny');\")  "
   ]
  },
  {
   "cell_type": "code",
   "execution_count": 20,
   "metadata": {},
   "outputs": [
    {
     "name": "stdout",
     "output_type": "stream",
     "text": [
      "(4, 30, 21.7, 49)\n",
      "(5, 4, 26.1, 49)\n",
      "(5, 5, 29.3, 45)\n",
      "(5, 8, 22.3, 41)\n"
     ]
    }
   ],
   "source": [
    "sql=\"SELECT month, day,highest,humidity FROM GW WHERE humidity < 50 AND highest > 20;\"\n",
    "c=conn.execute(sql)\n",
    "for row in c:\n",
    "    print (row)"
   ]
  },
  {
   "cell_type": "code",
   "execution_count": null,
   "metadata": {},
   "outputs": [],
   "source": []
  }
 ],
 "metadata": {
  "kernelspec": {
   "display_name": "Python 3",
   "language": "python",
   "name": "python3"
  },
  "language_info": {
   "codemirror_mode": {
    "name": "ipython",
    "version": 3
   },
   "file_extension": ".py",
   "mimetype": "text/x-python",
   "name": "python",
   "nbconvert_exporter": "python",
   "pygments_lexer": "ipython3",
   "version": "3.10.14"
  }
 },
 "nbformat": 4,
 "nbformat_minor": 2
}
